{
 "cells": [
  {
   "cell_type": "markdown",
   "metadata": {},
   "source": [
    "# Python Assignment #3"
   ]
  },
  {
   "cell_type": "markdown",
   "metadata": {},
   "source": [
    "1.1 Write a Python Program to implement your own myreduce() function which works exactly like Python's built-in function reduce()"
   ]
  },
  {
   "cell_type": "code",
   "execution_count": null,
   "metadata": {},
   "outputs": [],
   "source": [
    "##My reduce function:\n",
    "\n",
    "def myreduce(function_x, iterable):\n",
    "    from inspect import signature\n",
    "    sig=signature(function_x)\n",
    "    params = sig.parameters\n",
    "    if (len(params) !=2):\n",
    "        print(\"Function should have 2 arguments. Please check!\")\n",
    "    else:\n",
    "        res = iterable[0]\n",
    "        for i in iterable[1:]:\n",
    "            res = function_x(res, i)\n",
    "        print(res)  \n",
    "\n",
    "'''\n",
    "Sample Output\n",
    "lst = [2,1,3,2]\n",
    "------------------------------------\n",
    "def funct(x,y):\n",
    "    return x+y\n",
    "------------------------------------\n",
    "def funct_1(x):\n",
    "    return x**2\n",
    "------------------------------------\n",
    "def funct_2(x,y,z):\n",
    "    return x*y*z\n",
    "------------------------------------\n",
    "myreduce(funct, lst) #Prints 8\n",
    "myreduce(funct_1, lst) #Prints Function should have 2 arguments. Please check!\n",
    "myreduce(funct_2, lst) #Prints Function should have 2 arguments. Please check!\n",
    "'''"
   ]
  },
  {
   "cell_type": "markdown",
   "metadata": {},
   "source": []
  },
  {
   "cell_type": "markdown",
   "metadata": {},
   "source": [
    "1.2 Write a Python program to implement your own myfilter() function which works exactly like Python's built-in function filter() "
   ]
  },
  {
   "cell_type": "code",
   "execution_count": null,
   "metadata": {},
   "outputs": [],
   "source": [
    "def myfilter(function_x, iterable):\n",
    "    res_list=[]\n",
    "    \n",
    "    \n",
    "    from inspect import signature\n",
    "    sig=signature(function_x)\n",
    "    params = sig.parameters\n",
    "    if (len(params) ==1):\n",
    "        for i in iterable:\n",
    "            if (function_x(i) == True) | (function_x(i) != 0):\n",
    "                res_list.append(i)\n",
    "            else:\n",
    "                continue\n",
    "        return(res_list)\n",
    "    \n",
    "    else: \n",
    "        print(\"Function used in myfilter function should use one argument\")\n",
    "        \n",
    "        \n",
    "'''\n",
    "Sample Output\n",
    "lst = list(range(20))\n",
    "--------------------------------------------------------------------------------------------------------------\n",
    "def even_check(x):\n",
    "    if x%2==0:\n",
    "        return True\n",
    "    else: return False\n",
    "--------------------------------------------------------------------------------------------------------------\n",
    "def odd_check(x):\n",
    "    if x%2==1:\n",
    "        return True\n",
    "    else: \n",
    "        return False\n",
    "--------------------------------------------------------------------------------------------------------------\n",
    "def function_001(x): #making numbers divisible by 5 to zeros and leaving the rest of the numbers unaffected\n",
    "    if x%5==0:\n",
    "        return 0\n",
    "    else:\n",
    "        return x\n",
    "--------------------------------------------------------------------------------------------------------------\n",
    "myfilter(even_check, lst) #prints [0, 2, 4, 6, 8, 10, 12, 14, 16, 18]\n",
    "myfilter(odd_check, lst) #prints [1, 3, 5, 7, 9, 11, 13, 15, 17, 19]\n",
    "myfilter(function_001, lst) #prints [1, 2, 3, 4, 6, 7, 8, 9, 11, 12, 13, 14, 16, 17, 18, 19]\n",
    "'''"
   ]
  },
  {
   "cell_type": "code",
   "execution_count": null,
   "metadata": {},
   "outputs": [],
   "source": []
  },
  {
   "cell_type": "raw",
   "metadata": {},
   "source": [
    "2. Implement List comprehensions to produce the following lists. \n",
    "Write List comprehensions to produce the following Lists \n",
    " \n",
    "['x', 'xx', 'xxx', 'xxxx', 'y', 'yy', 'yyy', 'yyyy', 'z', 'zz', 'zzz', 'zzzz'] \n",
    "['x', 'y', 'z', 'xx', 'yy', 'zz', 'xxx', 'yyy', 'zzz', 'xxxx', 'yyyy', 'zzzz'] \n",
    "[[2], [3], [4], [3], [4], [5], [4], [5], [6]] \n",
    "[[2, 3, 4, 5], [3, 4, 5, 6], [4, 5, 6, 7], [5, 6, 7, 8]] \n",
    " \n",
    "[(1, 1), (2, 1), (3, 1), (1, 2), (2, 2), (3, 2), (1, 3), (2, 3), (3, 3)]"
   ]
  },
  {
   "cell_type": "code",
   "execution_count": 1,
   "metadata": {},
   "outputs": [
    {
     "data": {
      "text/plain": [
       "['x', 'xx', 'xxx', 'xxxx', 'y', 'yy', 'yyy', 'yyyy', 'z', 'zz', 'zzz', 'zzzz']"
      ]
     },
     "execution_count": 1,
     "metadata": {},
     "output_type": "execute_result"
    }
   ],
   "source": [
    "result_01 = [i*j for i in ['x','y','z'] for j in range(1,5)]\n",
    "result_01"
   ]
  },
  {
   "cell_type": "code",
   "execution_count": 2,
   "metadata": {},
   "outputs": [
    {
     "data": {
      "text/plain": [
       "['x', 'y', 'z', 'xx', 'yy', 'zz', 'xxx', 'yyy', 'zzz', 'xxxx', 'yyyy', 'zzzz']"
      ]
     },
     "execution_count": 2,
     "metadata": {},
     "output_type": "execute_result"
    }
   ],
   "source": [
    "result_02 = [i*j for i in range(1,5) for j in ['x','y','z']]\n",
    "result_02"
   ]
  },
  {
   "cell_type": "code",
   "execution_count": 3,
   "metadata": {},
   "outputs": [
    {
     "data": {
      "text/plain": [
       "[(1, 1), (1, 2), (1, 3), (2, 1), (2, 2), (2, 3), (3, 1), (3, 2), (3, 3)]"
      ]
     },
     "execution_count": 3,
     "metadata": {},
     "output_type": "execute_result"
    }
   ],
   "source": [
    "result_04 = [(i,j) for i in range(1,4) for j in range(1,4)]\n",
    "result_04"
   ]
  },
  {
   "cell_type": "code",
   "execution_count": 4,
   "metadata": {},
   "outputs": [
    {
     "data": {
      "text/plain": [
       "[[2], [3], [4], [3], [4], [5], [4], [5], [6]]"
      ]
     },
     "execution_count": 4,
     "metadata": {},
     "output_type": "execute_result"
    }
   ],
   "source": [
    "result_03 = [[i+j] for i in range(1,4) for j in range(1,4)]\n",
    "result_03"
   ]
  },
  {
   "cell_type": "code",
   "execution_count": 5,
   "metadata": {},
   "outputs": [
    {
     "data": {
      "text/plain": [
       "[[2, 3, 4, 5], [3, 4, 5, 6], [4, 5, 6, 7], [5, 6, 7, 8]]"
      ]
     },
     "execution_count": 5,
     "metadata": {},
     "output_type": "execute_result"
    }
   ],
   "source": [
    "result_05 = [[i+j for i in range(1,5)] for j in range(1,5)]\n",
    "result_05"
   ]
  }
 ],
 "metadata": {
  "kernelspec": {
   "display_name": "Python 3",
   "language": "python",
   "name": "python3"
  },
  "language_info": {
   "codemirror_mode": {
    "name": "ipython",
    "version": 3
   },
   "file_extension": ".py",
   "mimetype": "text/x-python",
   "name": "python",
   "nbconvert_exporter": "python",
   "pygments_lexer": "ipython3",
   "version": "3.7.1"
  }
 },
 "nbformat": 4,
 "nbformat_minor": 2
}
