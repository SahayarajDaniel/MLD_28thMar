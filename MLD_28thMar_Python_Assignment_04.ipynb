{
 "cells": [
  {
   "cell_type": "markdown",
   "metadata": {},
   "source": [
    "# Python Assignment #4"
   ]
  },
  {
   "cell_type": "markdown",
   "metadata": {},
   "source": [
    "\n",
    " 1.1 Write a Python Program(with class concepts) to find the area of the triangle using the below formula. \n",
    " \n",
    "area = (s*(s-a)*(s-b)*(s-c)) ** 0.5 \n",
    " \n",
    "Function to take the length of the sides of triangle from user should be defined in the parent class and function to calculate the area should be defined in subclass. "
   ]
  },
  {
   "cell_type": "code",
   "execution_count": 3,
   "metadata": {},
   "outputs": [
    {
     "name": "stdout",
     "output_type": "stream",
     "text": [
      "Enter side 1 value of the triangle : 4\n",
      "Enter side 2 value of the triangle : 4\n",
      "Enter side 3 value of the triangle : 4\n",
      "Area of the trianle: 6.928203230275509\n"
     ]
    }
   ],
   "source": [
    "class Triangle_sides:\n",
    "    ''' Area of Trianle using 3 sides'''\n",
    "    \n",
    "    def __init__(self):\n",
    "        side_1 = int(input(\"Enter side 1 value of the triangle : \"))\n",
    "        side_2 = int(input(\"Enter side 2 value of the triangle : \"))\n",
    "        side_3 = int(input(\"Enter side 3 value of the triangle : \"))\n",
    "        \n",
    "        self.a = side_1\n",
    "        self.b = side_2\n",
    "        self.c = side_3\n",
    "\n",
    "class Area_Of_Triangle(Triangle_sides):\n",
    "    \n",
    "    \n",
    "    def calculate_area(self):\n",
    "               \n",
    "        self.s = (self.a+self.b+self.c)/2\n",
    "        #print(self.s)\n",
    "        self.area_tri = (self.s*(self.s-self.a)*(self.s-self.b)*(self.s-self.c))**0.5\n",
    "        print(\"Area of the trianle: {}\".format(self.area_tri)) \n",
    "    #print(\"Area of the trianle: {}\".format(area_tri)) \n",
    "\n",
    "a1 = Area_Of_Triangle()\n",
    "a1.calculate_area()\n",
    "\n"
   ]
  },
  {
   "cell_type": "code",
   "execution_count": null,
   "metadata": {},
   "outputs": [],
   "source": []
  },
  {
   "cell_type": "markdown",
   "metadata": {},
   "source": [
    "1.2 Write a function filter_long_words() that takes a list of words and an integer n and returns the list of words that are longer than n. "
   ]
  },
  {
   "cell_type": "code",
   "execution_count": 4,
   "metadata": {},
   "outputs": [],
   "source": [
    "def filter_long_words(list_of_words, n):\n",
    "    result =[]\n",
    "    print(\"Input List: {}\".format(list_of_words))\n",
    "    for word in list_of_words:\n",
    "        if (len(word) >= n):\n",
    "            result.append(word)\n",
    "    print(\"Output list of words more than {} characters is: {}\" .format(n,result))"
   ]
  },
  {
   "cell_type": "code",
   "execution_count": 5,
   "metadata": {},
   "outputs": [
    {
     "name": "stdout",
     "output_type": "stream",
     "text": [
      "Input List: ['asdf', 'cat', 'money', 'stupendous', 'anton', 'Prime-Minister', 'Creame']\n",
      "Output list of words more than 6 characters is: ['stupendous', 'Prime-Minister', 'Creame']\n"
     ]
    }
   ],
   "source": [
    "lst = ['asdf','cat','money', 'stupendous','anton','Prime-Minister', 'Creame']\n",
    "filter_long_words(lst,6)"
   ]
  },
  {
   "cell_type": "markdown",
   "metadata": {},
   "source": [
    "2.1 Write a Python program using function concept that maps list of words into a list of integers representing the lengths of the corresponding words. \n",
    " \n",
    "Hint: If a list [ ab,cde,erty] is passed on to the python function output should come as [2,3,4] \n",
    " \n",
    "Here 2,3 and 4 are the lengths of the words in the list. "
   ]
  },
  {
   "cell_type": "code",
   "execution_count": 6,
   "metadata": {},
   "outputs": [],
   "source": [
    "def length_of_words(list_of_words):\n",
    "    result =[]\n",
    "    print(\"Input List: {}\".format(list_of_words))\n",
    "    for word in list_of_words:\n",
    "        result.append(len(word))\n",
    "    print(\"Output: {}\" .format(result))\n",
    "    "
   ]
  },
  {
   "cell_type": "code",
   "execution_count": 7,
   "metadata": {},
   "outputs": [
    {
     "name": "stdout",
     "output_type": "stream",
     "text": [
      "Input List: ['asdf', 'cat', 'money', 'stupendous', 'anton', 'Prime-Minister', 'Creame']\n",
      "Output: [4, 3, 5, 10, 5, 14, 6]\n"
     ]
    }
   ],
   "source": [
    "length_of_words(lst)"
   ]
  },
  {
   "cell_type": "markdown",
   "metadata": {},
   "source": [
    "2.2 Write a Python function which takes a character (i.e. a string of length 1) and returns True if it is a vowel, False otherwise. "
   ]
  },
  {
   "cell_type": "code",
   "execution_count": 8,
   "metadata": {},
   "outputs": [],
   "source": [
    "def check_vowel(char):\n",
    "    vowel = ['a','e','i','o','u']\n",
    "    if char in vowel:\n",
    "        #print(\"character {} is a vowel\".format(char))\n",
    "        return True\n",
    "    else: \n",
    "        #print(\"character {} is not a vowel\".format(char))\n",
    "        return False"
   ]
  },
  {
   "cell_type": "code",
   "execution_count": 10,
   "metadata": {},
   "outputs": [
    {
     "data": {
      "text/plain": [
       "True"
      ]
     },
     "execution_count": 10,
     "metadata": {},
     "output_type": "execute_result"
    }
   ],
   "source": [
    "check_vowel('e')"
   ]
  }
 ],
 "metadata": {
  "kernelspec": {
   "display_name": "Python 3",
   "language": "python",
   "name": "python3"
  },
  "language_info": {
   "codemirror_mode": {
    "name": "ipython",
    "version": 3
   },
   "file_extension": ".py",
   "mimetype": "text/x-python",
   "name": "python",
   "nbconvert_exporter": "python",
   "pygments_lexer": "ipython3",
   "version": "3.7.1"
  }
 },
 "nbformat": 4,
 "nbformat_minor": 2
}
